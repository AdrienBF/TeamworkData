{
 "cells": [
  {
   "cell_type": "markdown",
   "metadata": {},
   "source": [
    "# Project about comparing e-shops' online ratings with social media footprint"
   ]
  },
  {
   "cell_type": "code",
   "execution_count": null,
   "metadata": {},
   "outputs": [],
   "source": [
    "import json\n",
    "import re\n",
    "from functools import lru_cache\n",
    "from urllib.parse import urljoin\n",
    "\n",
    "import requests\n",
    "import pandas as pd\n",
    "from parsel import Selector\n",
    "import matplotlib.pyplot as plt"
   ]
  },
  {
   "cell_type": "code",
   "execution_count": null,
   "metadata": {},
   "outputs": [],
   "source": [
    "MAX_HEUREKA_PAGING_PAGES = 2  # this means that MAX_HEUREKA_PAGING_PAGES  * 20 eshops will be crawled\n",
    "RGX_PATTERN_INSTAGRAM = r\"\"\"\n",
    "^                         # start of string\n",
    "[^\\{]*?                   # any characters except \"{\", as few as possible\n",
    "(?P<json_obj>\\{.*\\})      # json_obj: starts with \"{\" and ends with \"}\"\n",
    "[^\\}]*?                   # any characters except \"}\", as few as possible\n",
    "$                         # end of string\n",
    "\"\"\"\n",
    "\n",
    "\n",
    "# @lru_cache - caching of calls to this function, helpful for debugging to save calls\n",
    "@lru_cache(maxsize=1000, typed=False)\n",
    "def get_selector(link):\n",
    "    \"\"\"\n",
    "    For a given link returns an instance of parsel.Selector object.\n",
    "\n",
    "    :param link: URL\n",
    "    :return: parsel.Selector instance\n",
    "    \"\"\"\n",
    "    headers = {\n",
    "        'authority': 'obchody.heureka.cz',\n",
    "        'cache-control': 'max-age=0',\n",
    "        'upgrade-insecure-requests': '1',\n",
    "        'user-agent': 'Mozilla/5.0 (Windows NT 10.0; Win64; x64) AppleWebKit/537.36 '\n",
    "                      '(KHTML, like Gecko) Chrome/73.0.3683.86 Safari/537.36',\n",
    "        'dnt': '1',\n",
    "        'accept': 'text/html,application/xhtml+xml,application/xml;q=0.9,image/webp,'\n",
    "                  'image/apng,*/*;q=0.8,application/signed-exchange;v=b3',\n",
    "        'accept-encoding': 'gzip, deflate',\n",
    "        'accept-language': 'en,cs;q=0.9,sk;q=0.8,en-GB;q=0.7,en-US;q=0.6',\n",
    "    }\n",
    "\n",
    "    response = requests.get(link, headers=headers)\n",
    "    return Selector(response.text)\n",
    "\n",
    "\n",
    "def get_instagram_data(instagram_id):\n",
    "    i_s = get_selector(f\"https://www.instagram.com/{instagram_id}/\")\n",
    "    if 'Sorry, this page' in i_s.get():\n",
    "        # the instagram profile does not exist, see https://instagram.com/dafdsfasdfjefwollaskjf\n",
    "        return None\n",
    "    output_object = json.loads(\n",
    "        re.match(RGX_PATTERN_INSTAGRAM, i_s.xpath('/html/body/script[1]/text()').get(), re.VERBOSE)['json_obj'])\n",
    "    return output_object\n"
   ]
  },
  {
   "cell_type": "code",
   "execution_count": null,
   "metadata": {},
   "outputs": [],
   "source": [
    "data = []\n",
    "next_link = 'https://obchody.heureka.cz/'\n",
    "# get list if eshops from 'https://obchody.heureka.cz/' using paging\n",
    "for _ in range(MAX_HEUREKA_PAGING_PAGES):\n",
    "    print(f'Getting link: {next_link}')\n",
    "    s = get_selector(next_link)\n",
    "\n",
    "    data.extend(\n",
    "        [{'reviews': float(re.sub(r'[^\\d]+', '', tr.xpath('./td[4]/a/ul/li[2]/text()').get())),\n",
    "          'inner_link': urljoin(next_link, tr.xpath('./td[4]/a/@href').get()),\n",
    "          'name': tr.xpath('./th/a/text()').get(),\n",
    "\n",
    "          }\n",
    "         for tr in s.xpath('/html/body/div[2]/div/div[2]/div/table//tr')])\n",
    "    next_link = urljoin(next_link, s.xpath('/html/body/div[2]/div/div[2]/nav/ol//a[@rel=\"next\"]/@href').get())"
   ]
  },
  {
   "cell_type": "code",
   "execution_count": null,
   "metadata": {},
   "outputs": [],
   "source": [
    "# get details for eshops in the list\n",
    "for eshop in data:\n",
    "    # detail on heureka\n",
    "    print(f\"Starting for: {eshop['inner_link']}\")\n",
    "    s = get_selector(eshop['inner_link'])\n",
    "    link = s.xpath('/html/body/div[2]/div/'\n",
    "                   'div[2]/aside//dd[@class=\"c-pair-list__value\"]/'\n",
    "                   'a[contains(@href,\"heureka.cz/exit\")]/text()').get().strip()\n",
    "    eshop['link'] = link\n",
    "    eshop['rating'] = s.css('body > div.scope-essentials.scope-shop-detail > '\n",
    "                            'div > div.l-shop-detail__wrapper > aside > div > '\n",
    "                            'section.c-shop-detail-stats.c-aside__section > table > '\n",
    "                            'tbody > tr:nth-child(1) > td > '\n",
    "                            'span.c-shop-detail-stats__value::text').get()\n",
    "    eshop['rating'] = float(eshop['rating'].replace(',', '.'))\n",
    "    \n",
    "    # detail from eshop page\n",
    "    # download links containing instagram.com from eshop page\n",
    "    instagram_link = get_selector(link).xpath('//a[contains(@href,\"instagram.com\")]/@href').get()\n",
    "    if instagram_link:\n",
    "        m = re.search(r'instagram.com/(?P<id>[\\w\\.]{3,})', instagram_link)\n",
    "    eshop['instagram'] = m['id'] if instagram_link and m else None\n",
    "\n",
    "    # download links containing twitter.com from eshop page\n",
    "    twitter_link = get_selector(link).xpath('//a[contains(@href,\"twitter.com\")]/@href').get()\n",
    "    if twitter_link:\n",
    "        m = re.search(r'twitter.com/@?(?P<id>[\\w\\.]+)', twitter_link)\n",
    "\n",
    "    # not used further for now\n",
    "    eshop['twitter'] = m['id'] if twitter_link and m else None\n",
    "\n",
    "    # detail from instagram profile\n",
    "    # get data from instagram profile\n",
    "    if eshop['instagram']:\n",
    "        instagram_data = get_instagram_data(eshop['instagram'])\n",
    "        eshop['instagram_followers'] = instagram_data['entry_data']['ProfilePage'][\n",
    "            0]['graphql']['user']['edge_followed_by']['count'] if instagram_data else None"
   ]
  },
  {
   "cell_type": "code",
   "execution_count": null,
   "metadata": {},
   "outputs": [],
   "source": [
    "# plot the data\n",
    "d = pd.DataFrame(data)\n",
    "plt.scatter(d['reviews'], d['instagram_followers'])\n",
    "plt.show()"
   ]
  }
 ],
 "metadata": {
  "kernelspec": {
   "display_name": "Python 3",
   "language": "python",
   "name": "python3"
  },
  "language_info": {
   "codemirror_mode": {
    "name": "ipython",
    "version": 3
   },
   "file_extension": ".py",
   "mimetype": "text/x-python",
   "name": "python",
   "nbconvert_exporter": "python",
   "pygments_lexer": "ipython3",
   "version": "3.7.0"
  }
 },
 "nbformat": 4,
 "nbformat_minor": 2
}
