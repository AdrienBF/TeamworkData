{
 "cells": [
  {
   "cell_type": "markdown",
   "metadata": {},
   "source": [
    "# Analysis of the data\n",
    "In this section, we present our results. First, we download our data:"
   ]
  },
  {
   "cell_type": "code",
   "execution_count": 86,
   "metadata": {},
   "outputs": [],
   "source": [
    "from download import download_all\n",
    "from req import RequestHelper\n",
    "req = RequestHelper(disable_debug_print=True)"
   ]
  },
  {
   "cell_type": "code",
   "execution_count": 89,
   "metadata": {},
   "outputs": [
    {
     "name": "stdout",
     "output_type": "stream",
     "text": [
      " - getting Heureka lists of eshops:\n"
     ]
    },
    {
     "name": "stderr",
     "output_type": "stream",
     "text": [
      "100%|████████████████████████████████████████████████████████████████████████████████████| 6/6 [00:07<00:00,  1.82s/it]\n"
     ]
    },
    {
     "name": "stdout",
     "output_type": "stream",
     "text": [
      " - getting Heureka page details:\n"
     ]
    },
    {
     "name": "stderr",
     "output_type": "stream",
     "text": [
      "100%|████████████████████████████████████████████████████████████████████████████████| 100/100 [00:46<00:00,  1.83it/s]\n"
     ]
    },
    {
     "name": "stdout",
     "output_type": "stream",
     "text": [
      "Data from Heureka finished in 54.04s.\n",
      " - getting data from eshop pages in 30 threads:\n"
     ]
    },
    {
     "name": "stderr",
     "output_type": "stream",
     "text": [
      "100%|████████████████████████████████████████████████████████████████████████████████| 100/100 [00:07<00:00, 13.33it/s]\n"
     ]
    },
    {
     "name": "stdout",
     "output_type": "stream",
     "text": [
      "Data from Eshop pages finished in 7.815s.\n",
      " - getting data from Instagram:\n"
     ]
    },
    {
     "name": "stderr",
     "output_type": "stream",
     "text": [
      "100%|██████████████████████████████████████████████████████████████████████████████████| 36/36 [00:16<00:00,  1.35s/it]\n"
     ]
    },
    {
     "name": "stdout",
     "output_type": "stream",
     "text": [
      "Data from Instagram pages finished in 16.913s.\n"
     ]
    }
   ],
   "source": [
    "# By instantiating the RequestHelper in the previous cell and passing it here, \n",
    "# we enable caching of hte requests. Therefore, if we want to run this cell again\n",
    "# with higher number of calls, we do not make the same call again.\n",
    "# Try this with running this cell for the first time (takes time to evaulate),\n",
    "# where the second run (for the same batch size) is almost instant.\n",
    "data = download_all(100, req=req)"
   ]
  },
  {
   "cell_type": "markdown",
   "metadata": {},
   "source": [
    "We inspect the top data:"
   ]
  },
  {
   "cell_type": "code",
   "execution_count": 100,
   "metadata": {},
   "outputs": [
    {
     "data": {
      "text/html": [
       "<div>\n",
       "<style scoped>\n",
       "    .dataframe tbody tr th:only-of-type {\n",
       "        vertical-align: middle;\n",
       "    }\n",
       "\n",
       "    .dataframe tbody tr th {\n",
       "        vertical-align: top;\n",
       "    }\n",
       "\n",
       "    .dataframe thead th {\n",
       "        text-align: right;\n",
       "    }\n",
       "</style>\n",
       "<table border=\"1\" class=\"dataframe\">\n",
       "  <thead>\n",
       "    <tr style=\"text-align: right;\">\n",
       "      <th></th>\n",
       "      <th>inner_link</th>\n",
       "      <th>name</th>\n",
       "      <th>rating</th>\n",
       "      <th>reviews</th>\n",
       "      <th>reviews_negative_count</th>\n",
       "      <th>reviews_positive_count</th>\n",
       "      <th>instagram</th>\n",
       "      <th>instagram_classified_descriptions</th>\n",
       "      <th>instagram_followers</th>\n",
       "      <th>instagram_full_json</th>\n",
       "      <th>instagram_posts_average_like</th>\n",
       "      <th>instagram_posts_count</th>\n",
       "      <th>reviews_positive_ratio</th>\n",
       "      <th>hasinsta</th>\n",
       "    </tr>\n",
       "    <tr>\n",
       "      <th>link</th>\n",
       "      <th></th>\n",
       "      <th></th>\n",
       "      <th></th>\n",
       "      <th></th>\n",
       "      <th></th>\n",
       "      <th></th>\n",
       "      <th></th>\n",
       "      <th></th>\n",
       "      <th></th>\n",
       "      <th></th>\n",
       "      <th></th>\n",
       "      <th></th>\n",
       "      <th></th>\n",
       "      <th></th>\n",
       "    </tr>\n",
       "  </thead>\n",
       "  <tbody>\n",
       "    <tr>\n",
       "      <th>https://www.notino.cz/</th>\n",
       "      <td>https://obchody.heureka.cz/notino-cz/recenze/o...</td>\n",
       "      <td>Notino</td>\n",
       "      <td>4.8</td>\n",
       "      <td>114515.0</td>\n",
       "      <td>1458.0</td>\n",
       "      <td>91313.0</td>\n",
       "      <td>notino_cz</td>\n",
       "      <td>phone;1 person, closeup;1 person, closeup;shoe...</td>\n",
       "      <td>32654.0</td>\n",
       "      <td>{'biography': 'Na jaro musíš být fresh! 🌺 Vybe...</td>\n",
       "      <td>219.000000</td>\n",
       "      <td>2035.0</td>\n",
       "      <td>0.797389</td>\n",
       "      <td>1</td>\n",
       "    </tr>\n",
       "    <tr>\n",
       "      <th>http://www.megaknihy.cz</th>\n",
       "      <td>https://obchody.heureka.cz/megaknihy-cz/recenz...</td>\n",
       "      <td>MegaKnihy.cz</td>\n",
       "      <td>4.8</td>\n",
       "      <td>68146.0</td>\n",
       "      <td>5423.0</td>\n",
       "      <td>62489.0</td>\n",
       "      <td>NaN</td>\n",
       "      <td>NaN</td>\n",
       "      <td>NaN</td>\n",
       "      <td>NaN</td>\n",
       "      <td>NaN</td>\n",
       "      <td>NaN</td>\n",
       "      <td>0.916987</td>\n",
       "      <td>0</td>\n",
       "    </tr>\n",
       "    <tr>\n",
       "      <th>http://www.eva.cz</th>\n",
       "      <td>https://obchody.heureka.cz/eva-cz/recenze/overene</td>\n",
       "      <td>EVA.cz</td>\n",
       "      <td>4.8</td>\n",
       "      <td>64291.0</td>\n",
       "      <td>1610.0</td>\n",
       "      <td>62373.0</td>\n",
       "      <td>NaN</td>\n",
       "      <td>NaN</td>\n",
       "      <td>NaN</td>\n",
       "      <td>NaN</td>\n",
       "      <td>NaN</td>\n",
       "      <td>NaN</td>\n",
       "      <td>0.970167</td>\n",
       "      <td>0</td>\n",
       "    </tr>\n",
       "    <tr>\n",
       "      <th>http://www.lekarna.cz/</th>\n",
       "      <td>https://obchody.heureka.cz/lekarna-cz/recenze/...</td>\n",
       "      <td>Lékárna.cz</td>\n",
       "      <td>4.8</td>\n",
       "      <td>53035.0</td>\n",
       "      <td>1420.0</td>\n",
       "      <td>51353.0</td>\n",
       "      <td>lekarna_cz</td>\n",
       "      <td>1 person;1 person;tree, plant and outdoor;food...</td>\n",
       "      <td>2826.0</td>\n",
       "      <td>{'biography': 'Pro zdraví a krásu celé rodiny ...</td>\n",
       "      <td>44.333333</td>\n",
       "      <td>297.0</td>\n",
       "      <td>0.968285</td>\n",
       "      <td>1</td>\n",
       "    </tr>\n",
       "    <tr>\n",
       "      <th>http://www.astratex.cz</th>\n",
       "      <td>https://obchody.heureka.cz/astratex-cz/recenze...</td>\n",
       "      <td>Astratex.cz</td>\n",
       "      <td>4.8</td>\n",
       "      <td>51231.0</td>\n",
       "      <td>1086.0</td>\n",
       "      <td>49969.0</td>\n",
       "      <td>astratex.cz</td>\n",
       "      <td>one or more people;2 people;one or more people...</td>\n",
       "      <td>4979.0</td>\n",
       "      <td>{'biography': 'E-shop s největším výběrem spod...</td>\n",
       "      <td>111.000000</td>\n",
       "      <td>713.0</td>\n",
       "      <td>0.975366</td>\n",
       "      <td>1</td>\n",
       "    </tr>\n",
       "  </tbody>\n",
       "</table>\n",
       "</div>"
      ],
      "text/plain": [
       "                                                                inner_link  \\\n",
       "link                                                                         \n",
       "https://www.notino.cz/   https://obchody.heureka.cz/notino-cz/recenze/o...   \n",
       "http://www.megaknihy.cz  https://obchody.heureka.cz/megaknihy-cz/recenz...   \n",
       "http://www.eva.cz        https://obchody.heureka.cz/eva-cz/recenze/overene   \n",
       "http://www.lekarna.cz/   https://obchody.heureka.cz/lekarna-cz/recenze/...   \n",
       "http://www.astratex.cz   https://obchody.heureka.cz/astratex-cz/recenze...   \n",
       "\n",
       "                                 name  rating   reviews  \\\n",
       "link                                                      \n",
       "https://www.notino.cz/         Notino     4.8  114515.0   \n",
       "http://www.megaknihy.cz  MegaKnihy.cz     4.8   68146.0   \n",
       "http://www.eva.cz              EVA.cz     4.8   64291.0   \n",
       "http://www.lekarna.cz/     Lékárna.cz     4.8   53035.0   \n",
       "http://www.astratex.cz    Astratex.cz     4.8   51231.0   \n",
       "\n",
       "                         reviews_negative_count  reviews_positive_count  \\\n",
       "link                                                                      \n",
       "https://www.notino.cz/                   1458.0                 91313.0   \n",
       "http://www.megaknihy.cz                  5423.0                 62489.0   \n",
       "http://www.eva.cz                        1610.0                 62373.0   \n",
       "http://www.lekarna.cz/                   1420.0                 51353.0   \n",
       "http://www.astratex.cz                   1086.0                 49969.0   \n",
       "\n",
       "                           instagram  \\\n",
       "link                                   \n",
       "https://www.notino.cz/     notino_cz   \n",
       "http://www.megaknihy.cz          NaN   \n",
       "http://www.eva.cz                NaN   \n",
       "http://www.lekarna.cz/    lekarna_cz   \n",
       "http://www.astratex.cz   astratex.cz   \n",
       "\n",
       "                                         instagram_classified_descriptions  \\\n",
       "link                                                                         \n",
       "https://www.notino.cz/   phone;1 person, closeup;1 person, closeup;shoe...   \n",
       "http://www.megaknihy.cz                                                NaN   \n",
       "http://www.eva.cz                                                      NaN   \n",
       "http://www.lekarna.cz/   1 person;1 person;tree, plant and outdoor;food...   \n",
       "http://www.astratex.cz   one or more people;2 people;one or more people...   \n",
       "\n",
       "                         instagram_followers  \\\n",
       "link                                           \n",
       "https://www.notino.cz/               32654.0   \n",
       "http://www.megaknihy.cz                  NaN   \n",
       "http://www.eva.cz                        NaN   \n",
       "http://www.lekarna.cz/                2826.0   \n",
       "http://www.astratex.cz                4979.0   \n",
       "\n",
       "                                                       instagram_full_json  \\\n",
       "link                                                                         \n",
       "https://www.notino.cz/   {'biography': 'Na jaro musíš být fresh! 🌺 Vybe...   \n",
       "http://www.megaknihy.cz                                                NaN   \n",
       "http://www.eva.cz                                                      NaN   \n",
       "http://www.lekarna.cz/   {'biography': 'Pro zdraví a krásu celé rodiny ...   \n",
       "http://www.astratex.cz   {'biography': 'E-shop s největším výběrem spod...   \n",
       "\n",
       "                         instagram_posts_average_like  instagram_posts_count  \\\n",
       "link                                                                           \n",
       "https://www.notino.cz/                     219.000000                 2035.0   \n",
       "http://www.megaknihy.cz                           NaN                    NaN   \n",
       "http://www.eva.cz                                 NaN                    NaN   \n",
       "http://www.lekarna.cz/                      44.333333                  297.0   \n",
       "http://www.astratex.cz                     111.000000                  713.0   \n",
       "\n",
       "                         reviews_positive_ratio  hasinsta  \n",
       "link                                                       \n",
       "https://www.notino.cz/                 0.797389         1  \n",
       "http://www.megaknihy.cz                0.916987         0  \n",
       "http://www.eva.cz                      0.970167         0  \n",
       "http://www.lekarna.cz/                 0.968285         1  \n",
       "http://www.astratex.cz                 0.975366         1  "
      ]
     },
     "execution_count": 100,
     "metadata": {},
     "output_type": "execute_result"
    }
   ],
   "source": [
    "data.head()"
   ]
  },
  {
   "cell_type": "code",
   "execution_count": 92,
   "metadata": {},
   "outputs": [],
   "source": [
    "data['reviews_positive_ratio'] = data['reviews_positive_count']/data['reviews']"
   ]
  },
  {
   "cell_type": "code",
   "execution_count": 189,
   "metadata": {},
   "outputs": [],
   "source": [
    "from matplotlib import pyplot as plt\n",
    "import pandas as pd\n",
    "import numpy as np\n",
    "import seaborn as sns\n",
    "import statistics as st\n",
    "plt.style.use('ggplot')"
   ]
  },
  {
   "cell_type": "code",
   "execution_count": null,
   "metadata": {
    "scrolled": true
   },
   "outputs": [],
   "source": [
    "data.corr().style.background_gradient(cmap='coolwarm', axis=None)"
   ]
  },
  {
   "cell_type": "code",
   "execution_count": null,
   "metadata": {
    "scrolled": true
   },
   "outputs": [],
   "source": [
    "sns.pairplot(data)\n",
    "plt.show()"
   ]
  },
  {
   "cell_type": "markdown",
   "metadata": {},
   "source": [
    "Now we try to plot the _reviews_ vs _instagram_\\__followers_"
   ]
  },
  {
   "cell_type": "code",
   "execution_count": null,
   "metadata": {},
   "outputs": [],
   "source": [
    "f, ax = plt.subplots(num=None, figsize=(15, 7))\n",
    "data.plot.scatter('reviews', 'instagram_followers', ax=ax,)\n",
    "plt.show()"
   ]
  },
  {
   "cell_type": "markdown",
   "metadata": {},
   "source": [
    "There is, however, not much to see. Can we improve it by log-scaling?"
   ]
  },
  {
   "cell_type": "code",
   "execution_count": null,
   "metadata": {},
   "outputs": [],
   "source": [
    "f, ax = plt.subplots(num=None, figsize=(15, 7))\n",
    "data.plot.scatter('reviews', 'instagram_followers', ax=ax,)\n",
    "ax.set_yscale('log')\n",
    "ax.set_xscale('log')\n",
    "plt.show()"
   ]
  },
  {
   "cell_type": "markdown",
   "metadata": {},
   "source": [
    "Nevertheless, there appears to be no stable relationship. Now what about the correlations?"
   ]
  },
  {
   "cell_type": "code",
   "execution_count": null,
   "metadata": {},
   "outputs": [],
   "source": [
    "sub_data = data[['reviews', 'instagram_followers']].dropna()\n",
    "sub_data['log(reviews)'] = np.log(data['reviews'])\n",
    "sub_data['log(instagram_followers)'] = np.log(data['instagram_followers'])\n",
    "sub_data.corr().style.background_gradient(cmap='coolwarm', axis=None)"
   ]
  },
  {
   "cell_type": "markdown",
   "metadata": {},
   "source": [
    "From 5.4% for the non-transformed scenario we cannot do better than 18% for _reviews_ vs _log(instagram_\\__followers)_.\n",
    "\n",
    "We can also try other variables:"
   ]
  },
  {
   "cell_type": "code",
   "execution_count": null,
   "metadata": {},
   "outputs": [],
   "source": [
    "f, ax = plt.subplots(num=2, figsize=(15, 7))\n",
    "data.plot.scatter('reviews', 'instagram_posts_average_like', ax=ax,)\n",
    "ax.set_yscale('log')\n",
    "ax.set_xscale('log')\n",
    "plt.show()"
   ]
  },
  {
   "cell_type": "code",
   "execution_count": null,
   "metadata": {},
   "outputs": [],
   "source": [
    "f, ax = plt.subplots(num=2, figsize=(15, 7))\n",
    "data.plot.scatter('reviews_positive_ratio', 'instagram_posts_average_like', ax=ax,)\n",
    "ax.set_yscale('log')\n",
    "plt.show()"
   ]
  },
  {
   "cell_type": "markdown",
   "metadata": {},
   "source": [
    "However, the story is similar, there is no clear pattern in the data."
   ]
  },
  {
   "cell_type": "code",
   "execution_count": null,
   "metadata": {},
   "outputs": [],
   "source": []
  },
  {
   "cell_type": "code",
   "execution_count": null,
   "metadata": {},
   "outputs": [],
   "source": []
  },
  {
   "cell_type": "code",
   "execution_count": null,
   "metadata": {},
   "outputs": [],
   "source": []
  },
  {
   "cell_type": "code",
   "execution_count": null,
   "metadata": {},
   "outputs": [],
   "source": []
  },
  {
   "cell_type": "code",
   "execution_count": 93,
   "metadata": {},
   "outputs": [
    {
     "data": {
      "image/png": "[encoded data removed]",
      "text/plain": [
       "<Figure size 1080x504 with 1 Axes>"
      ]
     },
     "metadata": {
      "needs_background": "light"
     },
     "output_type": "display_data"
    }
   ],
   "source": [
    "f, ax = plt.subplots(num=2, figsize=(15, 7))\n",
    "data.plot.scatter('reviews', 'instagram_posts_count', ax=ax,)\n",
    "\n",
    "plt.show()"
   ]
  },
  {
   "cell_type": "markdown",
   "metadata": {},
   "source": [
    "Except for the three outliers in the top-left corner, it seems that the more you post, the more you are wellknown on Heureka."
   ]
  },
  {
   "cell_type": "code",
   "execution_count": 159,
   "metadata": {},
   "outputs": [
    {
     "data": {
      "image/png": "[encoded data removed]",
      "text/plain": [
       "<Figure size 1080x504 with 1 Axes>"
      ]
     },
     "metadata": {
      "needs_background": "light"
     },
     "output_type": "display_data"
    }
   ],
   "source": [
    "f, ax = plt.subplots(num=2, figsize=(15, 7))\n",
    "data.plot.scatter('reviews_positive_ratio', 'instagram_followers', ax=ax,)\n",
    "\n",
    "plt.show()"
   ]
  },
  {
   "cell_type": "markdown",
   "metadata": {},
   "source": [
    "Based on the down-right corner, there is just a slightly positive correlation between fame on instagram and positiveness of the reviews. We can see that the most well-known firms have a worse positive-ratio.\n",
    "\n",
    "Is there any difference between firms with or without instagram?"
   ]
  },
  {
   "cell_type": "code",
   "execution_count": 196,
   "metadata": {},
   "outputs": [],
   "source": [
    "data['hasinsta'] = data['instagram'].notnull()\n",
    "data['hasinsta'] = data['hasinsta']*1\n",
    "dt1 = data[data.hasinsta != 0] #Firms with an instagram account\n",
    "dt0 = data[data.hasinsta != 1] #Firms without an instagram account"
   ]
  },
  {
   "cell_type": "code",
   "execution_count": 122,
   "metadata": {},
   "outputs": [
    {
     "name": "stdout",
     "output_type": "stream",
     "text": [
      "Average of reviews positive ratio for firms with an instagram account:\n"
     ]
    },
    {
     "data": {
      "text/plain": [
       "0.8994093867643578"
      ]
     },
     "execution_count": 122,
     "metadata": {},
     "output_type": "execute_result"
    }
   ],
   "source": [
    "print('Average of reviews positive ratio for firms with an instagram account:')\n",
    "np.mean(dt1['reviews_positive_ratio'])"
   ]
  },
  {
   "cell_type": "code",
   "execution_count": 121,
   "metadata": {},
   "outputs": [
    {
     "name": "stdout",
     "output_type": "stream",
     "text": [
      "Average of reviews positive ratio for firms without an instagram account:\n"
     ]
    },
    {
     "data": {
      "text/plain": [
       "0.9303946326711539"
      ]
     },
     "execution_count": 121,
     "metadata": {},
     "output_type": "execute_result"
    }
   ],
   "source": [
    "print('Average of reviews positive ratio for firms without an instagram account:')\n",
    "np.mean(dt0['reviews_positive_ratio'])"
   ]
  },
  {
   "cell_type": "markdown",
   "metadata": {},
   "source": [
    "There is a little evidence that not being present on instagram helps a firm to have better reviews.\n",
    "\n",
    "But maybe being on instagram helps firms to get more reviews ? "
   ]
  },
  {
   "cell_type": "code",
   "execution_count": 133,
   "metadata": {},
   "outputs": [
    {
     "data": {
      "image/png": "[encoded data removed]",
      "text/plain": [
       "<Figure size 432x288 with 1 Axes>"
      ]
     },
     "metadata": {
      "needs_background": "light"
     },
     "output_type": "display_data"
    }
   ],
   "source": [
    "bins = np.linspace(-50, 70000, 50)\n",
    "plt.hist(dt1['reviews'], bins, alpha=0.5, label='instagram account')\n",
    "plt.hist(dt0['reviews'], bins, alpha=0.5, label='no instagram account')\n",
    "plt.legend(loc='upper right')\n",
    "plt.show()"
   ]
  },
  {
   "cell_type": "markdown",
   "metadata": {},
   "source": [
    "The center of the plot is more favorable to firms with instagram, and low numbers of reviews are saturated by firms without instagram. The interpretation is not clear due to the 2 values between 60000 and 70000. Nonetheless, if we consider them as outliers, we can say that instagram helps having more reviews (or firm with a lot of reviews are more inclined to have an instagram account...)."
   ]
  },
  {
   "cell_type": "code",
   "execution_count": 182,
   "metadata": {},
   "outputs": [
    {
     "data": {
      "image/png": "[encoded data removed]",
      "text/plain": [
       "<Figure size 432x288 with 1 Axes>"
      ]
     },
     "metadata": {
      "needs_background": "light"
     },
     "output_type": "display_data"
    }
   ],
   "source": [
    "bins = np.linspace(0.4, 1, 50)\n",
    "plt.hist(dt1['reviews_positive_ratio'], bins, alpha=0.5, label='instagram account')\n",
    "plt.hist(dt0['reviews_positive_ratio'], bins, alpha=0.5, label='no instagram account')\n",
    "plt.legend(loc='upper left')\n",
    "plt.show()"
   ]
  },
  {
   "cell_type": "markdown",
   "metadata": {},
   "source": [
    "With this plot showing that worst grades are mainly for firms present on instagram, we can be pretty sure that big firms, despite having an instagram account, face lower grades.\n",
    "\n",
    "Now, we can try to separate the data between active or non-active firms on instagram (i.e. high number of posts) to see if instagram is usefull to them."
   ]
  },
  {
   "cell_type": "code",
   "execution_count": 190,
   "metadata": {},
   "outputs": [
    {
     "data": {
      "text/plain": [
       "349.0"
      ]
     },
     "execution_count": 190,
     "metadata": {},
     "output_type": "execute_result"
    }
   ],
   "source": [
    "st.median(dt1['instagram_posts_count'])"
   ]
  },
  {
   "cell_type": "code",
   "execution_count": 202,
   "metadata": {},
   "outputs": [
    {
     "name": "stderr",
     "output_type": "stream",
     "text": [
      "C:\\ProgramData\\Anaconda3\\lib\\site-packages\\ipykernel_launcher.py:1: SettingWithCopyWarning: \n",
      "A value is trying to be set on a copy of a slice from a DataFrame.\n",
      "Try using .loc[row_indexer,col_indexer] = value instead\n",
      "\n",
      "See the caveats in the documentation: http://pandas.pydata.org/pandas-docs/stable/indexing.html#indexing-view-versus-copy\n",
      "  \"\"\"Entry point for launching an IPython kernel.\n",
      "C:\\ProgramData\\Anaconda3\\lib\\site-packages\\ipykernel_launcher.py:2: SettingWithCopyWarning: \n",
      "A value is trying to be set on a copy of a slice from a DataFrame.\n",
      "Try using .loc[row_indexer,col_indexer] = value instead\n",
      "\n",
      "See the caveats in the documentation: http://pandas.pydata.org/pandas-docs/stable/indexing.html#indexing-view-versus-copy\n",
      "  \n"
     ]
    }
   ],
   "source": [
    "dt1['active'] = dt1['instagram_posts_count'] >= 349\n",
    "dt1['active'] = dt1['active']*1\n",
    "act1 = dt1[dt1.active != 0] #Active firms\n",
    "act0 = dt1[dt1.active != 1] #Non active firms"
   ]
  },
  {
   "cell_type": "code",
   "execution_count": 211,
   "metadata": {},
   "outputs": [
    {
     "data": {
      "image/png": "[encoded data removed]",
      "text/plain": [
       "<Figure size 432x288 with 1 Axes>"
      ]
     },
     "metadata": {},
     "output_type": "display_data"
    }
   ],
   "source": [
    "bins = np.linspace(0.4, 1, 50)\n",
    "plt.hist(act1['reviews_positive_ratio'], bins, alpha=0.5, label='Active firms')\n",
    "plt.hist(act0['reviews_positive_ratio'], bins, alpha=0.5, label='Non active firms')\n",
    "plt.legend(loc='upper left')\n",
    "plt.show()"
   ]
  },
  {
   "cell_type": "markdown",
   "metadata": {},
   "source": [
    "Being active on instagram helps having better reviews."
   ]
  },
  {
   "cell_type": "code",
   "execution_count": 214,
   "metadata": {},
   "outputs": [
    {
     "data": {
      "image/png": "[encoded data removed]",
      "text/plain": [
       "<Figure size 1080x504 with 1 Axes>"
      ]
     },
     "metadata": {},
     "output_type": "display_data"
    }
   ],
   "source": [
    "f, ax = plt.subplots(num=2, figsize=(15, 7))\n",
    "act1.plot.scatter('reviews', 'instagram_followers', ax=ax, label='Active firms', c='red')\n",
    "act0.plot.scatter('reviews', 'instagram_followers', ax=ax, label='Non active firms')\n",
    "plt.show()"
   ]
  },
  {
   "cell_type": "markdown",
   "metadata": {},
   "source": [
    "Firms highly active on instagram seem to have more followers but not necessarily more reviews."
   ]
  },
  {
   "cell_type": "code",
   "execution_count": null,
   "metadata": {},
   "outputs": [],
   "source": []
  }
 ],
 "metadata": {
  "kernelspec": {
   "display_name": "Python 3",
   "language": "python",
   "name": "python3"
  },
  "language_info": {
   "codemirror_mode": {
    "name": "ipython",
    "version": 3
   },
   "file_extension": ".py",
   "mimetype": "text/x-python",
   "name": "python",
   "nbconvert_exporter": "python",
   "pygments_lexer": "ipython3",
   "version": "3.7.0"
  }
 },
 "nbformat": 4,
 "nbformat_minor": 2
}
